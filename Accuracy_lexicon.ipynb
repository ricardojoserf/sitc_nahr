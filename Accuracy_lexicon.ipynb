{
 "cells": [
  {
   "cell_type": "code",
   "execution_count": 1,
   "metadata": {
    "collapsed": true
   },
   "outputs": [],
   "source": [
    "import pandas as pd\n",
    "pd.set_option('max_colwidth',1000)"
   ]
  },
  {
   "cell_type": "code",
   "execution_count": 2,
   "metadata": {
    "collapsed": false
   },
   "outputs": [
    {
     "data": {
      "text/plain": [
       "'/home/ubuntu/sitc_nahr-master2'"
      ]
     },
     "execution_count": 2,
     "metadata": {},
     "output_type": "execute_result"
    }
   ],
   "source": [
    "pwd"
   ]
  },
  {
   "cell_type": "code",
   "execution_count": 21,
   "metadata": {
    "collapsed": false
   },
   "outputs": [
    {
     "data": {
      "text/html": [
       "<div>\n",
       "<table border=\"1\" class=\"dataframe\">\n",
       "  <thead>\n",
       "    <tr style=\"text-align: right;\">\n",
       "      <th></th>\n",
       "      <th>content</th>\n",
       "      <th>polarity</th>\n",
       "      <th>dic</th>\n",
       "      <th>dic_rounded</th>\n",
       "    </tr>\n",
       "  </thead>\n",
       "  <tbody>\n",
       "    <tr>\n",
       "      <th>0</th>\n",
       "      <td>'Ce soir c'est l'élection de #missfrance et je vais me faire un plaisir de NE PAS regarder.'</td>\n",
       "      <td>0</td>\n",
       "      <td>0.0</td>\n",
       "      <td>Nan</td>\n",
       "    </tr>\n",
       "    <tr>\n",
       "      <th>1</th>\n",
       "      <td>'Ce soir c'est Miss France pour ceux qui ne le savent pas :D !! #MissFrance'</td>\n",
       "      <td>Nan</td>\n",
       "      <td>0.0</td>\n",
       "      <td>Nan</td>\n",
       "    </tr>\n",
       "    <tr>\n",
       "      <th>2</th>\n",
       "      <td>'#medtaha #MIT Miss France 2012 : c'est ce soir ! - TF1  #àlaune'</td>\n",
       "      <td>Nan</td>\n",
       "      <td>0.0</td>\n",
       "      <td>Nan</td>\n",
       "    </tr>\n",
       "    <tr>\n",
       "      <th>3</th>\n",
       "      <td>'@LorieOfficiel Bon courage Lorie et que la Meilleure gagne #MissFrance !'</td>\n",
       "      <td>Nan</td>\n",
       "      <td>1.0</td>\n",
       "      <td>1</td>\n",
       "    </tr>\n",
       "    <tr>\n",
       "      <th>4</th>\n",
       "      <td>'#FF @MISSandraBisson pour suivre l'élection Miss France 2012 !!! #MissFrance #Miss #France'</td>\n",
       "      <td>Nan</td>\n",
       "      <td>0.0</td>\n",
       "      <td>Nan</td>\n",
       "    </tr>\n",
       "  </tbody>\n",
       "</table>\n",
       "</div>"
      ],
      "text/plain": [
       "                                                                                        content  \\\n",
       "0  'Ce soir c'est l'élection de #missfrance et je vais me faire un plaisir de NE PAS regarder.'   \n",
       "1                  'Ce soir c'est Miss France pour ceux qui ne le savent pas :D !! #MissFrance'   \n",
       "2                             '#medtaha #MIT Miss France 2012 : c'est ce soir ! - TF1  #àlaune'   \n",
       "3                    '@LorieOfficiel Bon courage Lorie et que la Meilleure gagne #MissFrance !'   \n",
       "4  '#FF @MISSandraBisson pour suivre l'élection Miss France 2012 !!! #MissFrance #Miss #France'   \n",
       "\n",
       "  polarity  dic dic_rounded  \n",
       "0        0  0.0         Nan  \n",
       "1      Nan  0.0         Nan  \n",
       "2      Nan  0.0         Nan  \n",
       "3      Nan  1.0           1  \n",
       "4      Nan  0.0         Nan  "
      ]
     },
     "execution_count": 21,
     "metadata": {},
     "output_type": "execute_result"
    }
   ],
   "source": [
    "t = pd.read_csv('dic_results_extended.csv', encoding='utf-8')\n",
    "t.head()"
   ]
  },
  {
   "cell_type": "code",
   "execution_count": 26,
   "metadata": {
    "collapsed": false
   },
   "outputs": [
    {
     "name": "stdout",
     "output_type": "stream",
     "text": [
      "2678\n",
      "5546\n",
      "48.287053732419764\n"
     ]
    }
   ],
   "source": [
    "total = 0\n",
    "correctos = 0\n",
    "\n",
    "for i, row in t.iterrows():\n",
    "    if row['polarity'] == row['dic_rounded']:\n",
    "        correctos+=1\n",
    "    total+=1\n",
    "    \n",
    "print(correctos)\n",
    "print(total)\n",
    "print(correctos*100/total)\n",
    "\n",
    "    "
   ]
  },
  {
   "cell_type": "code",
   "execution_count": 24,
   "metadata": {
    "collapsed": false
   },
   "outputs": [
    {
     "data": {
      "text/plain": [
       "Nan    0.559502\n",
       "1      0.222322\n",
       "0      0.218175\n",
       "Name: polarity, dtype: float64"
      ]
     },
     "execution_count": 24,
     "metadata": {},
     "output_type": "execute_result"
    }
   ],
   "source": [
    "t.polarity.value_counts(normalize=True)"
   ]
  },
  {
   "cell_type": "code",
   "execution_count": 6,
   "metadata": {
    "collapsed": false
   },
   "outputs": [
    {
     "data": {
      "text/plain": [
       "Nan    0.488100\n",
       "0      0.294627\n",
       "1      0.217274\n",
       "Name: dic_rounded, dtype: float64"
      ]
     },
     "execution_count": 6,
     "metadata": {},
     "output_type": "execute_result"
    }
   ],
   "source": [
    "t.dic_rounded.value_counts(normalize=True)"
   ]
  },
  {
   "cell_type": "code",
   "execution_count": null,
   "metadata": {
    "collapsed": true
   },
   "outputs": [],
   "source": []
  }
 ],
 "metadata": {
  "kernelspec": {
   "display_name": "Python 3",
   "language": "python",
   "name": "python3"
  },
  "language_info": {
   "codemirror_mode": {
    "name": "ipython",
    "version": 3
   },
   "file_extension": ".py",
   "mimetype": "text/x-python",
   "name": "python",
   "nbconvert_exporter": "python",
   "pygments_lexer": "ipython3",
   "version": "3.6.0"
  }
 },
 "nbformat": 4,
 "nbformat_minor": 2
}
