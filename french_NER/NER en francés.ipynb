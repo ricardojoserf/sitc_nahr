{
 "cells": [
  {
   "cell_type": "markdown",
   "metadata": {},
   "source": [
    "## POS Tagging"
   ]
  },
  {
   "cell_type": "markdown",
   "metadata": {},
   "source": [
    "Tenemos que mapear en python las etiquetas de la página: http://www.cis.uni-muenchen.de/~schmid/tools/TreeTagger/data/french-tagset.html para que cuando aparezcan sean reemplazados por las etiquetas que correspondan del tagset Upenn (se muestran abajo)."
   ]
  },
  {
   "cell_type": "code",
   "execution_count": 5,
   "metadata": {
    "collapsed": false
   },
   "outputs": [
    {
     "name": "stdout",
     "output_type": "stream",
     "text": [
      "$: dollar\n",
      "    $ -$ --$ A$ C$ HK$ M$ NZ$ S$ U.S.$ US$\n",
      "'': closing quotation mark\n",
      "    ' ''\n",
      "(: opening parenthesis\n",
      "    ( [ {\n",
      "): closing parenthesis\n",
      "    ) ] }\n",
      ",: comma\n",
      "    ,\n",
      "--: dash\n",
      "    --\n",
      ".: sentence terminator\n",
      "    . ! ?\n",
      ":: colon or ellipsis\n",
      "    : ; ...\n",
      "CC: conjunction, coordinating\n",
      "    & 'n and both but either et for less minus neither nor or plus so\n",
      "    therefore times v. versus vs. whether yet\n",
      "CD: numeral, cardinal\n",
      "    mid-1890 nine-thirty forty-two one-tenth ten million 0.5 one forty-\n",
      "    seven 1987 twenty '79 zero two 78-degrees eighty-four IX '60s .025\n",
      "    fifteen 271,124 dozen quintillion DM2,000 ...\n",
      "DT: determiner\n",
      "    all an another any both del each either every half la many much nary\n",
      "    neither no some such that the them these this those\n",
      "EX: existential there\n",
      "    there\n",
      "FW: foreign word\n",
      "    gemeinschaft hund ich jeux habeas Haementeria Herr K'ang-si vous\n",
      "    lutihaw alai je jour objets salutaris fille quibusdam pas trop Monte\n",
      "    terram fiche oui corporis ...\n",
      "IN: preposition or conjunction, subordinating\n",
      "    astride among uppon whether out inside pro despite on by throughout\n",
      "    below within for towards near behind atop around if like until below\n",
      "    next into if beside ...\n",
      "JJ: adjective or numeral, ordinal\n",
      "    third ill-mannered pre-war regrettable oiled calamitous first separable\n",
      "    ectoplasmic battery-powered participatory fourth still-to-be-named\n",
      "    multilingual multi-disciplinary ...\n",
      "JJR: adjective, comparative\n",
      "    bleaker braver breezier briefer brighter brisker broader bumper busier\n",
      "    calmer cheaper choosier cleaner clearer closer colder commoner costlier\n",
      "    cozier creamier crunchier cuter ...\n",
      "JJS: adjective, superlative\n",
      "    calmest cheapest choicest classiest cleanest clearest closest commonest\n",
      "    corniest costliest crassest creepiest crudest cutest darkest deadliest\n",
      "    dearest deepest densest dinkiest ...\n",
      "LS: list item marker\n",
      "    A A. B B. C C. D E F First G H I J K One SP-44001 SP-44002 SP-44005\n",
      "    SP-44007 Second Third Three Two * a b c d first five four one six three\n",
      "    two\n",
      "MD: modal auxiliary\n",
      "    can cannot could couldn't dare may might must need ought shall should\n",
      "    shouldn't will would\n",
      "NN: noun, common, singular or mass\n",
      "    common-carrier cabbage knuckle-duster Casino afghan shed thermostat\n",
      "    investment slide humour falloff slick wind hyena override subhumanity\n",
      "    machinist ...\n",
      "NNP: noun, proper, singular\n",
      "    Motown Venneboerger Czestochwa Ranzer Conchita Trumplane Christos\n",
      "    Oceanside Escobar Kreisler Sawyer Cougar Yvette Ervin ODI Darryl CTCA\n",
      "    Shannon A.K.C. Meltex Liverpool ...\n",
      "NNPS: noun, proper, plural\n",
      "    Americans Americas Amharas Amityvilles Amusements Anarcho-Syndicalists\n",
      "    Andalusians Andes Andruses Angels Animals Anthony Antilles Antiques\n",
      "    Apache Apaches Apocrypha ...\n",
      "NNS: noun, common, plural\n",
      "    undergraduates scotches bric-a-brac products bodyguards facets coasts\n",
      "    divestitures storehouses designs clubs fragrances averages\n",
      "    subjectivists apprehensions muses factory-jobs ...\n",
      "PDT: pre-determiner\n",
      "    all both half many quite such sure this\n",
      "POS: genitive marker\n",
      "    ' 's\n",
      "PRP: pronoun, personal\n",
      "    hers herself him himself hisself it itself me myself one oneself ours\n",
      "    ourselves ownself self she thee theirs them themselves they thou thy us\n",
      "PRP$: pronoun, possessive\n",
      "    her his mine my our ours their thy your\n",
      "RB: adverb\n",
      "    occasionally unabatingly maddeningly adventurously professedly\n",
      "    stirringly prominently technologically magisterially predominately\n",
      "    swiftly fiscally pitilessly ...\n",
      "RBR: adverb, comparative\n",
      "    further gloomier grander graver greater grimmer harder harsher\n",
      "    healthier heavier higher however larger later leaner lengthier less-\n",
      "    perfectly lesser lonelier longer louder lower more ...\n",
      "RBS: adverb, superlative\n",
      "    best biggest bluntest earliest farthest first furthest hardest\n",
      "    heartiest highest largest least less most nearest second tightest worst\n",
      "RP: particle\n",
      "    aboard about across along apart around aside at away back before behind\n",
      "    by crop down ever fast for forth from go high i.e. in into just later\n",
      "    low more off on open out over per pie raising start teeth that through\n",
      "    under unto up up-pp upon whole with you\n",
      "SYM: symbol\n",
      "    % & ' '' ''. ) ). * + ,. < = > @ A[fj] U.S U.S.S.R * ** ***\n",
      "TO: \"to\" as preposition or infinitive marker\n",
      "    to\n",
      "UH: interjection\n",
      "    Goodbye Goody Gosh Wow Jeepers Jee-sus Hubba Hey Kee-reist Oops amen\n",
      "    huh howdy uh dammit whammo shucks heck anyways whodunnit honey golly\n",
      "    man baby diddle hush sonuvabitch ...\n",
      "VB: verb, base form\n",
      "    ask assemble assess assign assume atone attention avoid bake balkanize\n",
      "    bank begin behold believe bend benefit bevel beware bless boil bomb\n",
      "    boost brace break bring broil brush build ...\n",
      "VBD: verb, past tense\n",
      "    dipped pleaded swiped regummed soaked tidied convened halted registered\n",
      "    cushioned exacted snubbed strode aimed adopted belied figgered\n",
      "    speculated wore appreciated contemplated ...\n",
      "VBG: verb, present participle or gerund\n",
      "    telegraphing stirring focusing angering judging stalling lactating\n",
      "    hankerin' alleging veering capping approaching traveling besieging\n",
      "    encrypting interrupting erasing wincing ...\n",
      "VBN: verb, past participle\n",
      "    multihulled dilapidated aerosolized chaired languished panelized used\n",
      "    experimented flourished imitated reunifed factored condensed sheared\n",
      "    unsettled primed dubbed desired ...\n",
      "VBP: verb, present tense, not 3rd person singular\n",
      "    predominate wrap resort sue twist spill cure lengthen brush terminate\n",
      "    appear tend stray glisten obtain comprise detest tease attract\n",
      "    emphasize mold postpone sever return wag ...\n",
      "VBZ: verb, present tense, 3rd person singular\n",
      "    bases reconstructs marks mixes displeases seals carps weaves snatches\n",
      "    slumps stretches authorizes smolders pictures emerges stockpiles\n",
      "    seduces fizzes uses bolsters slaps speaks pleads ...\n",
      "WDT: WH-determiner\n",
      "    that what whatever which whichever\n",
      "WP: WH-pronoun\n",
      "    that what whatever whatsoever which who whom whosoever\n",
      "WP$: WH-pronoun, possessive\n",
      "    whose\n",
      "WRB: Wh-adverb\n",
      "    how however whence whenever where whereby whereever wherein whereof why\n",
      "``: opening quotation mark\n",
      "    ` ``\n"
     ]
    }
   ],
   "source": [
    "import nltk\n",
    "nltk.help.upenn_tagset()"
   ]
  },
  {
   "cell_type": "markdown",
   "metadata": {},
   "source": [
    "## TreeTagger\n",
    "\n",
    "Para que funcione la librería hay que seguir el proceso que se muestra en esta web: http://www.cis.uni-muenchen.de/~schmid/tools/TreeTagger/\n",
    "\n",
    "Todos los ficheros deben estar en el mismo directorio.La clave es que los ficheros que lo necesiten no tengan sin descomprimir el .gz. De todos modos adjunto los ficheros preparaditos para ejecutar el script de instalar _sh install-tagger.sh_.\n",
    "\n",
    "Para que tire el diccionario francés meter en TreeTagger/lib el fichero _french-utf8.par_."
   ]
  },
  {
   "cell_type": "markdown",
   "metadata": {},
   "source": [
    "## Python3 Tree Tagger\n",
    "\n",
    "\n",
    "Clonar el repositorio de este pollo. https://github.com/miotto/treetagger-python\n",
    "\n",
    "##### NOTA: Directamente adjunto el fichero python para no clonar ni nada\n",
    "\n",
    "No instalar como dice él con setup.py (al menos a mí no me lo reconoce el notebook despúes). Mejor importar directamente la librería treetagger.py como toda la vida.\n",
    "\n",
    "Recordar añadir con export el PATH al ejecutable como se dice en la instalación\n",
    "\n"
   ]
  },
  {
   "cell_type": "raw",
   "metadata": {},
   "source": [
    "% export TREETAGGER_HOME='/Users/Nacho/Documents/SEGUNDO/SITC/TreeTagger/cmd/'"
   ]
  },
  {
   "cell_type": "markdown",
   "metadata": {},
   "source": [
    "## Pruebas\n",
    "\n",
    "El programa treetagger se es capaz de ejecutar los procedimientos de 'tokenizing' y de 'stemming' sobre el corpus objetivo. Posteriormente cogeremos el resultado y los mapearemos al tagset Upenn y para dárselo al NER de NLTK."
   ]
  },
  {
   "cell_type": "code",
   "execution_count": 22,
   "metadata": {
    "collapsed": false
   },
   "outputs": [
    {
     "name": "stdout",
     "output_type": "stream",
     "text": [
      "[['Emmanuel', 'NAM', 'Emmanuel'], ['Macron', 'NAM', '<unknown>'], ['a', 'VER:pres', 'avoir'], ['gagné', 'VER:pper', 'gagner'], ['à', 'PRP', 'à'], ['la', 'DET:ART', 'le'], ['candidate', 'NOM', 'candidat'], ['du', 'PRP:det', 'du'], ['Front', 'NAM', '<unknown>'], ['National', 'NAM', '<unknown>'], [',', 'PUN', ','], ['Marine', 'NAM', 'Marine'], ['Le', 'DET:ART', 'le'], ['Pen', 'NAM', '<unknown>'], [',', 'PUN', ','], ['par', 'PRP', 'par'], ['un', 'DET:ART', 'un'], ['soixante-cinq', 'NUM', 'soixante-cinq'], ['percent', 'VER:pres', 'percer'], ['des', 'PRP:det', 'du'], ['votes', 'NOM', 'vote'], ['dans', 'PRP', 'dans'], ['les', 'DET:ART', 'le'], ['elections', 'NOM', '<unknown>'], ['de', 'PRP', 'de'], ['la', 'DET:ART', 'le'], ['France', 'NAM', 'France'], ['.', 'SENT', '.']]\n"
     ]
    }
   ],
   "source": [
    "from treetagger import TreeTagger\n",
    "tt = TreeTagger(language='french')\n",
    "tt.tag('Elle est jolie')\n",
    "\n",
    "test_ttg = tt.tag('Emmanuel Macron a gagné à la candidate du Front National, Marine Le Pen, par un soixante-cinq percent des votes dans les elections de la France.')\n",
    "print(test_ttg)"
   ]
  },
  {
   "cell_type": "markdown",
   "metadata": {},
   "source": [
    "A continuación se carga el diccionario encargado de mapear el etiquetado del formato empleado por TreeTagger al formato UPenn."
   ]
  },
  {
   "cell_type": "code",
   "execution_count": 23,
   "metadata": {
    "collapsed": false
   },
   "outputs": [],
   "source": [
    "#Dictionary uses following pair convention --> 'Treetagger_french_tagging':'UPenn_tagging'\n",
    "mapping = {'ABR':'CC',\n",
    "       'ADJ':'JJ',\n",
    "       'ADV':'RB',\n",
    "       'DET:ART':'DT',\n",
    "       'DET:POS':'PRP$',\n",
    "       'INT':'UH',\n",
    "       'KON':'CC',\n",
    "       'NAM':'NNP',\n",
    "       'NOM':'NN',\n",
    "       'NUM':'CD',\n",
    "       'PRO':'PRP',\n",
    "       'PRO:DEM':'DT',\n",
    "       'PRO:IND':'DT',\n",
    "       'PRO:PER':'PRP',\n",
    "       'PRO:POS':'PRP$',\n",
    "       'PRO:REL':'DT',\n",
    "       'PRP':'IN',\n",
    "       'PRP:det':'RP',\n",
    "       'PUN':'SYM',\n",
    "       'PUN:cit':'SYM',\n",
    "       'SENT':'.',\n",
    "       'SYM':'SYM',\n",
    "       'VER:cond':'MD',\n",
    "       'VER:futu':'MD',\n",
    "       'VER:impe':'VBP',\n",
    "       'VER:impf':'VBD',\n",
    "       'VER:infi':'VB',\n",
    "       'VER:pper':'VBN',\n",
    "       'VER:ppre':'VBG',\n",
    "       'VER:pres':'VB',\n",
    "       'VER:simp':'VBD',\n",
    "       'VER:subi':'VBN',\n",
    "       'VER:subp':'VBD',      \n",
    "}"
   ]
  },
  {
   "cell_type": "markdown",
   "metadata": {},
   "source": [
    "Ejecutamos el mapeado sobre el corpus resultante de TreeTagger."
   ]
  },
  {
   "cell_type": "code",
   "execution_count": 24,
   "metadata": {
    "collapsed": false
   },
   "outputs": [
    {
     "name": "stdout",
     "output_type": "stream",
     "text": [
      "[('Emmanuel', 'NNP'), ('Macron', 'NNP'), ('a', 'VB'), ('gagné', 'VBN'), ('à', 'IN'), ('la', 'DT'), ('candidate', 'NN'), ('du', 'RP'), ('Front', 'NNP'), ('National', 'NNP'), (',', 'SYM'), ('Marine', 'NNP'), ('Le', 'DT'), ('Pen', 'NNP'), (',', 'SYM'), ('par', 'IN'), ('un', 'DT'), ('soixante-cinq', 'CD'), ('percent', 'VB'), ('des', 'RP'), ('votes', 'NN'), ('dans', 'IN'), ('les', 'DT'), ('elections', 'NN'), ('de', 'IN'), ('la', 'DT'), ('France', 'NNP'), ('.', '.')]\n"
     ]
    }
   ],
   "source": [
    "test_mapped=[]\n",
    "j=0\n",
    "for i in test_ttg:\n",
    "    if i[1] in mapping:\n",
    "        test_mapped.append((test_ttg[j][0],mapping[i[1]]))\n",
    "    j+=1\n",
    "print(test_mapped)"
   ]
  },
  {
   "cell_type": "markdown",
   "metadata": {},
   "source": [
    "Una vez tenemos nuestro corpus etiquetado en formato UPenn, empleamos la librería ne_chunk de NLTK para realizar el  procesamiento NER."
   ]
  },
  {
   "cell_type": "code",
   "execution_count": 25,
   "metadata": {
    "collapsed": false
   },
   "outputs": [
    {
     "name": "stdout",
     "output_type": "stream",
     "text": [
      "(S\n",
      "  (PERSON Emmanuel/NNP)\n",
      "  Macron/NNP\n",
      "  a/VB\n",
      "  gagné/VBN\n",
      "  à/IN\n",
      "  la/DT\n",
      "  candidate/NN\n",
      "  du/RP\n",
      "  (PERSON Front/NNP National/NNP)\n",
      "  ,/SYM\n",
      "  (PERSON Marine/NNP Le/DT Pen/NNP)\n",
      "  ,/SYM\n",
      "  par/IN\n",
      "  un/DT\n",
      "  soixante-cinq/CD\n",
      "  percent/VB\n",
      "  des/RP\n",
      "  votes/NN\n",
      "  dans/IN\n",
      "  les/DT\n",
      "  elections/NN\n",
      "  de/IN\n",
      "  la/DT\n",
      "  (GPE France/NNP)\n",
      "  ./.)\n"
     ]
    }
   ],
   "source": [
    "from nltk import ne_chunk\n",
    "ne_tagged = ne_chunk(test_mapped)\n",
    "print(ne_tagged)"
   ]
  },
  {
   "cell_type": "markdown",
   "metadata": {},
   "source": [
    "Como podemos ver la librería NER de NLTK es capaz de reconocer a dos personas (Macron y Le Pen) y un lugar (Francia) correctamente. También ha sido capaz de reconocer el partido Front National pero como si se tratase de una persona en vez de una organización. Por último, comentar que en este caso no ha sido capaz de reconocer el nombre 'Macron' como parte de la entidad persona 'Emmanuel'."
   ]
  },
  {
   "cell_type": "markdown",
   "metadata": {},
   "source": [
    "El siguiente apartado simplemente es una muestra de ejemplo en la que el mapeo se ha hecho de forma manual."
   ]
  },
  {
   "cell_type": "code",
   "execution_count": 9,
   "metadata": {
    "collapsed": false
   },
   "outputs": [
    {
     "name": "stdout",
     "output_type": "stream",
     "text": [
      "(S\n",
      "  (PERSON Emmanuel/NNP)\n",
      "  (PERSON Macron/NNP)\n",
      "  est/VBG\n",
      "  le/DT\n",
      "  nouveau/JJ\n",
      "  président/NN\n",
      "  de/IN\n",
      "  la/DT\n",
      "  (GPE France/NNP))\n"
     ]
    }
   ],
   "source": [
    "test = [('Emmanuel','NNP'),('Macron','NNP'),('est','VBG'),('le','DT'),('nouveau','JJ'),('président','NN'),('de','IN'),('la','DT'),('France','NNP')]\n",
    "ne_tagged = ne_chunk(test)\n",
    "print(ne_tagged)"
   ]
  }
 ],
 "metadata": {
  "kernelspec": {
   "display_name": "Python 3",
   "language": "python",
   "name": "python3"
  },
  "language_info": {
   "codemirror_mode": {
    "name": "ipython",
    "version": 3
   },
   "file_extension": ".py",
   "mimetype": "text/x-python",
   "name": "python",
   "nbconvert_exporter": "python",
   "pygments_lexer": "ipython3",
   "version": "3.6.0"
  }
 },
 "nbformat": 4,
 "nbformat_minor": 2
}
